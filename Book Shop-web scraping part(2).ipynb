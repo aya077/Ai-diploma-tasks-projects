{
 "cells": [
  {
   "cell_type": "code",
   "execution_count": 2,
   "id": "short-cambridge",
   "metadata": {},
   "outputs": [],
   "source": [
    "import requests\n",
    "from bs4 import BeautifulSoup\n",
    "\n",
    "base_url = \"https://books.toscrape.com/\"\n",
    "page_url = base_url + \"catalogue/page-{}.html\"\n",
    "\n",
    "page_number = 1\n",
    "\n",
    "with open(\"All_bookshop_data.txt\", \"w\", encoding=\"utf-8\") as file:\n",
    "    while True:\n",
    "        url = page_url.format(page_number)\n",
    "   \n",
    "        response = requests.get(url)\n",
    "\n",
    "        if response.status_code != 200:\n",
    "            break\n",
    "\n",
    "        soup = BeautifulSoup(response.content, \"html.parser\")\n",
    "      \n",
    "        book_containers = soup.find_all(\"article\", class_=\"product_pod\")\n",
    "        \n",
    "        for book in book_containers:\n",
    "            \n",
    "            title = book.h3.a[\"title\"]\n",
    "\n",
    "            price = book.find(\"p\", class_=\"price_color\").text\n",
    "\n",
    "            rating = book.find(\"p\", class_=\"star-rating\")\n",
    "            if rating is not None:\n",
    "                rating = rating[\"class\"][1]\n",
    "            else:\n",
    "                rating = \"N/A\"\n",
    "\n",
    "            availability = book.find(\"p\", class_=\"instock availability\").text.strip()\n",
    "\n",
    "            file.write(\"Title: {}\\n\".format(title))\n",
    "            file.write(\"Price: {}\\n\".format(price))\n",
    "            file.write(\"Rating: {}\\n\".format(rating))\n",
    "            file.write(\"Availability: {}\\n\".format(availability))\n",
    "            file.write(\"-\" * 50 + \"\\n\")\n",
    "\n",
    "        page_number += 1"
   ]
  },
  {
   "cell_type": "code",
   "execution_count": null,
   "id": "certain-picture",
   "metadata": {},
   "outputs": [],
   "source": []
  }
 ],
 "metadata": {
  "kernelspec": {
   "display_name": "Python 3",
   "language": "python",
   "name": "python3"
  },
  "language_info": {
   "codemirror_mode": {
    "name": "ipython",
    "version": 3
   },
   "file_extension": ".py",
   "mimetype": "text/x-python",
   "name": "python",
   "nbconvert_exporter": "python",
   "pygments_lexer": "ipython3",
   "version": "3.7.2"
  }
 },
 "nbformat": 4,
 "nbformat_minor": 5
}
