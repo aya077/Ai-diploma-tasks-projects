{
 "cells": [
  {
   "cell_type": "code",
   "execution_count": 5,
   "id": "d261ff58",
   "metadata": {},
   "outputs": [
    {
     "name": "stdout",
     "output_type": "stream",
     "text": [
      "Ahmed Hafez 0102345678 ahmed@gmail.com\n",
      "Ali Osama 0123442342 ali@gmail.com\n"
     ]
    }
   ],
   "source": [
    "file = open(r'C:\\Users\\FreeComp\\Desktop\\info.txt')\n",
    "myfile = file.read()\n",
    "print(myfile)"
   ]
  },
  {
   "cell_type": "code",
   "execution_count": 6,
   "id": "fa19cfe1",
   "metadata": {},
   "outputs": [
    {
     "name": "stdout",
     "output_type": "stream",
     "text": [
      "['0102345678', '0123442342']\n"
     ]
    }
   ],
   "source": [
    "import re\n",
    "pattern1 = re.compile(r'01\\d\\d\\d\\d\\d\\d\\d\\d')\n",
    "phone_numbers= pattern1.findall(myfile)\n",
    "print(phone_numbers)\n",
    "\n",
    "\n"
   ]
  },
  {
   "cell_type": "code",
   "execution_count": 7,
   "id": "f11bca13",
   "metadata": {},
   "outputs": [
    {
     "name": "stdout",
     "output_type": "stream",
     "text": [
      "['Ahmed Hafez', 'Ali Osama']\n"
     ]
    }
   ],
   "source": [
    "pattern2 = re.compile(r'[A-z]\\w+[^com]\\s[A-z]\\w+')\n",
    "names = pattern2.findall(myfile)\n",
    "print(names)"
   ]
  },
  {
   "cell_type": "code",
   "execution_count": 8,
   "id": "99cade2d",
   "metadata": {},
   "outputs": [
    {
     "name": "stdout",
     "output_type": "stream",
     "text": [
      "['ahmed@gmail.com', 'ali@gmail.com']\n"
     ]
    }
   ],
   "source": [
    "pattern3 = re.compile(r'[A-z]\\w+\\@[A-z]\\w+\\.com')\n",
    "emails = pattern3.findall(myfile)\n",
    "print(emails)"
   ]
  },
  {
   "cell_type": "code",
   "execution_count": 117,
   "id": "c82506d7",
   "metadata": {},
   "outputs": [],
   "source": [
    "\n",
    "f2 = open('newfile3.txt','a+')\n",
    "\n",
    "\n",
    "f2.writelines(['Ahmed Hafez ', 'ahmed@gmail.com ', ' 0102345678\\n', '0123442342 ', 'ali@gmail.com ', 'Ali Osama'])\n",
    "f2.close()\n",
    "    \n",
    "\n",
    "\n",
    "\n",
    "   "
   ]
  },
  {
   "cell_type": "code",
   "execution_count": 116,
   "id": "67f22c81",
   "metadata": {},
   "outputs": [],
   "source": [
    "f3 = open('newfile2.txt','a+')\n",
    "f3.writelines(['Ahmed Hafez', '-', '0102345678', '-', 'ahmed@gmail.com\\n', 'Ali Osama', '*', '0123442342', '*','ali@gmail.com'])\n",
    "f3.close()"
   ]
  },
  {
   "cell_type": "code",
   "execution_count": null,
   "id": "retired-intellectual",
   "metadata": {},
   "outputs": [],
   "source": []
  }
 ],
 "metadata": {
  "kernelspec": {
   "display_name": "Python 3.7.2 64-bit",
   "language": "python",
   "name": "python37264bit70f953c0dd764789a1645ae35b292ba4"
  },
  "language_info": {
   "codemirror_mode": {
    "name": "ipython",
    "version": 3
   },
   "file_extension": ".py",
   "mimetype": "text/x-python",
   "name": "python",
   "nbconvert_exporter": "python",
   "pygments_lexer": "ipython3",
   "version": "3.7.2"
  }
 },
 "nbformat": 4,
 "nbformat_minor": 5
}
