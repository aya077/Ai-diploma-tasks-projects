{
 "cells": [
  {
   "cell_type": "code",
   "execution_count": null,
   "id": "severe-antibody",
   "metadata": {},
   "outputs": [],
   "source": [
    "import requests\n",
    "from bs4 import BeautifulSoup\n",
    "\n"
   ]
  },
  {
   "cell_type": "code",
   "execution_count": null,
   "id": "quarterly-ethics",
   "metadata": {},
   "outputs": [],
   "source": [
    "url = \"https://www.yallakora.com/match-center?date=8/26/2023#days\""
   ]
  },
  {
   "cell_type": "code",
   "execution_count": null,
   "id": "cathedral-facial",
   "metadata": {},
   "outputs": [],
   "source": [
    "response = requests.get(url)"
   ]
  },
  {
   "cell_type": "code",
   "execution_count": null,
   "id": "partial-booth",
   "metadata": {},
   "outputs": [],
   "source": [
    "page_content = response.content"
   ]
  },
  {
   "cell_type": "code",
   "execution_count": null,
   "id": "occupational-thursday",
   "metadata": {},
   "outputs": [],
   "source": [
    "print(page_content)"
   ]
  },
  {
   "cell_type": "code",
   "execution_count": null,
   "id": "constitutional-decline",
   "metadata": {},
   "outputs": [],
   "source": [
    "soup = BeautifulSoup(page_content, \"html.parser\")"
   ]
  },
  {
   "cell_type": "code",
   "execution_count": null,
   "id": "raising-benjamin",
   "metadata": {},
   "outputs": [],
   "source": [
    "channels = soup.find_all('div', class_=\"channel icon-channel\")"
   ]
  },
  {
   "cell_type": "code",
   "execution_count": null,
   "id": "overall-transparency",
   "metadata": {},
   "outputs": [],
   "source": [
    "channels"
   ]
  },
  {
   "cell_type": "code",
   "execution_count": null,
   "id": "streaming-disney",
   "metadata": {},
   "outputs": [],
   "source": [
    "for i in range(len(channels)):\n",
    "    tv_channels = channels[i].text.strip()\n",
    "    print(tv_channels)"
   ]
  },
  {
   "cell_type": "code",
   "execution_count": null,
   "id": "aquatic-magnitude",
   "metadata": {},
   "outputs": [],
   "source": [
    "championship_title = soup.find_all('select', class_=\"filter tourFilter\")"
   ]
  },
  {
   "cell_type": "code",
   "execution_count": null,
   "id": "behavioral-luxembourg",
   "metadata": {},
   "outputs": [],
   "source": [
    "championship_title"
   ]
  },
  {
   "cell_type": "code",
   "execution_count": null,
   "id": "equivalent-visitor",
   "metadata": {},
   "outputs": [],
   "source": [
    "for i in range(len(championship_title)):\n",
    "    championship_titles = championship_title[i].text.strip()\n",
    "    print(championship_titles)"
   ]
  },
  {
   "cell_type": "code",
   "execution_count": null,
   "id": "approved-water",
   "metadata": {},
   "outputs": [],
   "source": []
  },
  {
   "cell_type": "code",
   "execution_count": null,
   "id": "annual-lunch",
   "metadata": {},
   "outputs": [],
   "source": [
    "time= soup.find_all('span', class_=\"time\")"
   ]
  },
  {
   "cell_type": "code",
   "execution_count": null,
   "id": "fabulous-metallic",
   "metadata": {},
   "outputs": [],
   "source": [
    "time"
   ]
  },
  {
   "cell_type": "code",
   "execution_count": null,
   "id": "divine-financing",
   "metadata": {},
   "outputs": [],
   "source": [
    "for i in range(len(time)):\n",
    "    match_time = time[i].text.strip()\n",
    "    print(match_time)"
   ]
  },
  {
   "cell_type": "code",
   "execution_count": null,
   "id": "exempt-fourth",
   "metadata": {},
   "outputs": [],
   "source": [
    "team1 = soup.find_all('div', class_=\"teams teamA\")"
   ]
  },
  {
   "cell_type": "code",
   "execution_count": null,
   "id": "engaging-europe",
   "metadata": {},
   "outputs": [],
   "source": [
    "team1"
   ]
  },
  {
   "cell_type": "code",
   "execution_count": null,
   "id": "configured-communications",
   "metadata": {},
   "outputs": [],
   "source": [
    "for i in range(len(team1)):\n",
    "    team_A = team1[i].text.strip()\n",
    "    print(team_A)"
   ]
  },
  {
   "cell_type": "code",
   "execution_count": null,
   "id": "strategic-abortion",
   "metadata": {},
   "outputs": [],
   "source": [
    "team2 = soup.find_all('div', class_=\"teams teamB\")"
   ]
  },
  {
   "cell_type": "code",
   "execution_count": null,
   "id": "collaborative-helmet",
   "metadata": {},
   "outputs": [],
   "source": [
    "for i in range(len(team2)):\n",
    "    team_B = team2[i].text.strip()\n",
    "    print(team_B)"
   ]
  },
  {
   "cell_type": "code",
   "execution_count": null,
   "id": "everyday-details",
   "metadata": {},
   "outputs": [],
   "source": [
    "championships = soup.find_all('div', class_='matchCard')\n",
    "\n"
   ]
  },
  {
   "cell_type": "code",
   "execution_count": null,
   "id": "regular-knock",
   "metadata": {},
   "outputs": [],
   "source": [
    "len(championships)"
   ]
  },
  {
   "cell_type": "code",
   "execution_count": null,
   "id": "apparent-organic",
   "metadata": {},
   "outputs": [],
   "source": [
    "for i in range(len(championships)):\n",
    "\n",
    "    matches = championships[i].contents[3].find_all('li')\n",
    "    for j in range(len(matches)):\n",
    "        results = matches[j].find('div', {'class':'MResult'}).find_all('span', {'class':'score'})\n",
    "        score = f'{results[0].text.strip()} - {results[1].text.strip()}'\n",
    "        print(score)\n",
    "        "
   ]
  },
  {
   "cell_type": "code",
   "execution_count": null,
   "id": "demonstrated-violin",
   "metadata": {},
   "outputs": [],
   "source": [
    "for i in range(len(championships)):\n",
    "    matches_details = open(\"matches_alldetails2.txt\", \"a\", encoding=\"utf-8\")\n",
    "    print(championships[i].contents[1].find('h2').text.strip())\n",
    "    matches = championships[i].contents[3].find_all('li')\n",
    "    for j in range(len(matches)):\n",
    "        teamA = matches[j].find('div', {'class':'teamA'}).text.strip()\n",
    "        teamB = matches[j].find('div', {'class':'teamB'}).text.strip()\n",
    "\n",
    "        results = matches[j].find('div', {'class':'MResult'}).find_all('span', {'class':'score'})\n",
    "        score = f'{results[0].text.strip()} - {results[1].text.strip()}'\n",
    "\n",
    "        time = matches[j].find('div', {'class':'MResult'}).find('span', {'class':'time'}).text.strip()\n",
    "        channel_div = matches[j].find('div', class_=\"channel icon-channel\")\n",
    "        if channel_div:\n",
    "            all_channels = channel_div.text.strip()\n",
    "        else:\n",
    "            all_channels = \"No channel information available\"\n",
    "\n",
    "        print(teamA, score, teamB, time, all_channels)\n",
    "        matches_details.write(f' {teamA} {score} {teamB} {time} {all_channels}\\n')\n",
    "        matches_details.write('*************************************\\n')\n",
    "    print('*' * 40)\n",
    "\n",
    "matches_details.close()"
   ]
  },
  {
   "cell_type": "code",
   "execution_count": null,
   "id": "chief-width",
   "metadata": {},
   "outputs": [],
   "source": []
  }
 ],
 "metadata": {
  "kernelspec": {
   "display_name": "Python 3",
   "language": "python",
   "name": "python3"
  },
  "language_info": {
   "codemirror_mode": {
    "name": "ipython",
    "version": 3
   },
   "file_extension": ".py",
   "mimetype": "text/x-python",
   "name": "python",
   "nbconvert_exporter": "python",
   "pygments_lexer": "ipython3",
   "version": "3.7.2"
  }
 },
 "nbformat": 4,
 "nbformat_minor": 5
}
