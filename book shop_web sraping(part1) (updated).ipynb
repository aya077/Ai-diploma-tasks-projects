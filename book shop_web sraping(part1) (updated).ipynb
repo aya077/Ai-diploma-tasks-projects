{
 "cells": [
  {
   "cell_type": "code",
   "execution_count": null,
   "id": "intense-director",
   "metadata": {},
   "outputs": [],
   "source": [
    "import requests\n",
    "from bs4 import BeautifulSoup"
   ]
  },
  {
   "cell_type": "code",
   "execution_count": null,
   "id": "historical-sharing",
   "metadata": {},
   "outputs": [],
   "source": [
    "base_url = \"https://books.toscrape.com/\"\n",
    "page_url = base_url + \"catalogue/page-{}.html\"\n",
    "\n",
    "page_number = 1"
   ]
  },
  {
   "cell_type": "markdown",
   "id": "signed-technology",
   "metadata": {},
   "source": [
    "### web scraping for titles"
   ]
  },
  {
   "cell_type": "code",
   "execution_count": null,
   "id": "piano-eugene",
   "metadata": {},
   "outputs": [],
   "source": [
    "titles = []\n",
    "while True:\n",
    "    url = page_url.format(page_number)\n",
    "    response = requests.get(url)\n",
    "    if response.status_code != 200:\n",
    "        \n",
    "        break\n",
    "    soup = BeautifulSoup(response.content, \"html.parser\") \n",
    "    book_containers = soup.find_all(\"article\", class_=\"product_pod\")\n",
    "    for book in book_containers:\n",
    "        title = book.h3.a['title']\n",
    "        \n",
    "        titles.append(title)\n",
    "    for i in range(len(titles)):\n",
    "        print(f\"{titles[i]}\")\n",
    "        print('-'*60)\n",
    "    page_number += 1\n",
    "        "
   ]
  },
  {
   "cell_type": "code",
   "execution_count": null,
   "id": "unusual-conflict",
   "metadata": {},
   "outputs": [],
   "source": []
  },
  {
   "cell_type": "markdown",
   "id": "median-trainer",
   "metadata": {},
   "source": [
    "### web scraping for prices"
   ]
  },
  {
   "cell_type": "code",
   "execution_count": null,
   "id": "tamil-treat",
   "metadata": {},
   "outputs": [],
   "source": [
    "while True:\n",
    "    url = page_url.format(page_number)\n",
    "    response = requests.get(url)\n",
    "    if response.status_code != 200:\n",
    "        break\n",
    "         \n",
    "    soup = BeautifulSoup(response.content, \"html.parser\") \n",
    "    price = soup.find_all(\"p\", class_=\"price_color\")\n",
    "    for i in range(len(price)):\n",
    "        print(price[i].text)\n",
    "        print('-'*30)\n",
    "        \n",
    "    page_number += 1 \n",
    "    \n"
   ]
  },
  {
   "cell_type": "code",
   "execution_count": null,
   "id": "prompt-director",
   "metadata": {},
   "outputs": [],
   "source": []
  },
  {
   "cell_type": "markdown",
   "id": "gentle-devices",
   "metadata": {},
   "source": [
    "### web scraping for titles of books and its price"
   ]
  },
  {
   "cell_type": "code",
   "execution_count": null,
   "id": "superior-commercial",
   "metadata": {},
   "outputs": [],
   "source": [
    "all_titles = []\n",
    "prices = []\n",
    "while True:\n",
    "    url = page_url.format(page_number)\n",
    "    response = requests.get(url)\n",
    "    if response.status_code != 200:\n",
    "        \n",
    "        break\n",
    "    soup = BeautifulSoup(response.content, \"html.parser\") \n",
    "    book_containers = soup.find_all(\"article\", class_=\"product_pod\")\n",
    "    for book in book_containers:\n",
    "        title = book.h3.a['title']\n",
    "        price = book.find(\"p\", class_=\"price_color\").text\n",
    "        \n",
    "        all_titles.append(title)\n",
    "        prices.append(price)\n",
    "    for i in range(len(all_titles)):\n",
    "        print(f\"{all_titles[i]} : {prices[i]}\")\n",
    "        print('-'*60)\n",
    "    page_number += 1"
   ]
  },
  {
   "cell_type": "code",
   "execution_count": null,
   "id": "disturbed-arbitration",
   "metadata": {},
   "outputs": [],
   "source": []
  },
  {
   "cell_type": "code",
   "execution_count": null,
   "id": "stainless-vision",
   "metadata": {},
   "outputs": [],
   "source": [
    "titles =[]\n",
    "books_rating = []\n",
    "while True:\n",
    "    url = page_url.format(page_number)\n",
    "    response = requests.get(url)\n",
    "    if response.status_code != 200:\n",
    "        break\n",
    "    soup = BeautifulSoup(response.content, \"html.parser\") \n",
    "    book_containers = soup.find_all(\"article\", class_=\"product_pod\")\n",
    "    for book in book_containers:\n",
    "        title = book.h3.a['title']\n",
    "        rating = book.find(\"p\", class_=\"star-rating\")\n",
    "        if rating is not None:\n",
    "            rating = rating[\"class\"][1]\n",
    "        else:\n",
    "            rating = \"N/A\"\n",
    "            \n",
    "        titles.append(title)\n",
    "        books_rating.append(rating)\n",
    "            \n",
    "    for i in range(len(titles)):\n",
    "        print(f\"{titles[i]} : {books_rating[i]}\")\n",
    "        print('-'*60)\n",
    "    page_number += 1"
   ]
  },
  {
   "cell_type": "markdown",
   "id": "searching-uniform",
   "metadata": {},
   "source": [
    "### web scraping for all books with price less than 20 pound"
   ]
  },
  {
   "cell_type": "code",
   "execution_count": null,
   "id": "governmental-citizen",
   "metadata": {},
   "outputs": [],
   "source": [
    "all_books_titles = []\n",
    "all_prices = []\n",
    "while True:\n",
    "    url = page_url.format(page_number)\n",
    "    response = requests.get(url)\n",
    "    if response.status_code != 200:\n",
    "        \n",
    "        break\n",
    "    \n",
    "    soup = BeautifulSoup(response.content, \"html.parser\") \n",
    "    book_containers = soup.find_all(\"article\", class_=\"product_pod\")\n",
    "    for book in book_containers:\n",
    "        title = book.h3.a['title']\n",
    "        \n",
    "    \n",
    "        price = book.find(\"p\", class_=\"price_color\").text\n",
    "        if float(price[1:]) < 20:\n",
    "            \n",
    "            all_books_titles.append(title)\n",
    "            all_prices.append(price)\n",
    "        \n",
    "    for i in range(len(all_books_titles)):\n",
    "        print(f\"{all_books_titles[i]} - {all_prices[i]}\")\n",
    "        print('='*60)\n",
    "    page_number += 1   "
   ]
  },
  {
   "cell_type": "code",
   "execution_count": null,
   "id": "important-insulation",
   "metadata": {},
   "outputs": [],
   "source": []
  }
 ],
 "metadata": {
  "kernelspec": {
   "display_name": "Python 3",
   "language": "python",
   "name": "python3"
  },
  "language_info": {
   "codemirror_mode": {
    "name": "ipython",
    "version": 3
   },
   "file_extension": ".py",
   "mimetype": "text/x-python",
   "name": "python",
   "nbconvert_exporter": "python",
   "pygments_lexer": "ipython3",
   "version": "3.7.2"
  }
 },
 "nbformat": 4,
 "nbformat_minor": 5
}
