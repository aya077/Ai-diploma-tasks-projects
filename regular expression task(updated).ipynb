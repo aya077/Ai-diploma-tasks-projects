{
 "cells": [
  {
   "cell_type": "code",
   "execution_count": 4,
   "id": "d261ff58",
   "metadata": {},
   "outputs": [
    {
     "name": "stdout",
     "output_type": "stream",
     "text": [
      "Ahmed Hafez 0102345678 ahmed@gmail.com\n",
      "Ali Osama 0123442342 ali@gmail.com\n"
     ]
    }
   ],
   "source": [
    "file = open(r'C:\\Users\\FreeComp\\Desktop\\info.txt')\n",
    "myfile = file.read()\n",
    "print(myfile)"
   ]
  },
  {
   "cell_type": "code",
   "execution_count": 5,
   "id": "fa19cfe1",
   "metadata": {},
   "outputs": [
    {
     "name": "stdout",
     "output_type": "stream",
     "text": [
      "['0102345678', '0123442342']\n"
     ]
    }
   ],
   "source": [
    "import re\n",
    "pattern1 = re.compile(r'01\\d{8}')\n",
    "phone_numbers= pattern1.findall(myfile)\n",
    "print(phone_numbers)\n",
    "\n",
    "\n"
   ]
  },
  {
   "cell_type": "code",
   "execution_count": 6,
   "id": "f11bca13",
   "metadata": {},
   "outputs": [
    {
     "name": "stdout",
     "output_type": "stream",
     "text": [
      "['Ahmed Hafez', 'Ali Osama']\n"
     ]
    }
   ],
   "source": [
    "pattern2 = re.compile(r'[A-z]\\w+[^com]\\s[A-z]\\w+')\n",
    "names = pattern2.findall(myfile)\n",
    "print(names)"
   ]
  },
  {
   "cell_type": "code",
   "execution_count": 7,
   "id": "99cade2d",
   "metadata": {},
   "outputs": [
    {
     "name": "stdout",
     "output_type": "stream",
     "text": [
      "['ahmed@gmail.com', 'ali@gmail.com']\n"
     ]
    }
   ],
   "source": [
    "pattern3 = re.compile(r'[A-z]\\w+\\@[A-z]\\w+\\.com')\n",
    "emails = pattern3.findall(myfile)\n",
    "print(emails)"
   ]
  },
  {
   "cell_type": "code",
   "execution_count": 13,
   "id": "c82506d7",
   "metadata": {},
   "outputs": [],
   "source": [
    "\n",
    "f2 = open('updatedfile.txt', 'w+')\n",
    "\n",
    "\n",
    "f2.writelines(['Ahmed Hafez ', 'ahmed@gmail.com ', '0102345678\\n', '0123442342 ', 'ali@gmail.com ', 'Ali Osama\\n'])\n",
    "f2.writelines(['Ahmed Samy ' , 'ahmedsamy123@gmail.com ', '0105632488\\n', 'Fady-Ahmed@yahoo.com ', 'Fady Ahmed ', '0113654789\\n'])\n",
    "f2.writelines(['Alaa Hany ', '0152364789 ', 'Alaa-2458-s@yahoo.com\\n', 'samy-548-fahmy@gmail.com ', 'samy fahmy ', '0142536987\\n'])\n",
    "\n",
    "\n",
    "\n",
    "\n",
    "   "
   ]
  },
  {
   "cell_type": "code",
   "execution_count": 14,
   "id": "traditional-france",
   "metadata": {},
   "outputs": [
    {
     "name": "stdout",
     "output_type": "stream",
     "text": [
      "Ahmed Hafez ahmed@gmail.com 0102345678\n",
      "0123442342 ali@gmail.com Ali Osama\n",
      "Ahmed Samy ahmedsamy123@gmail.com 0105632488\n",
      "Fady-Ahmed@yahoo.com Fady Ahmed 0113654789\n",
      "Alaa Hany 0152364789 Alaa-2458-s@yahoo.com\n",
      "samy-548-fahmy@gmail.com samy fahmy 0142536987\n",
      "\n"
     ]
    }
   ],
   "source": [
    "my_file1 = open(r'updatedfile.txt')\n",
    "myfile1 = my_file1.read()\n",
    "print(myfile1)"
   ]
  },
  {
   "cell_type": "code",
   "execution_count": 15,
   "id": "worse-hepatitis",
   "metadata": {},
   "outputs": [
    {
     "name": "stdout",
     "output_type": "stream",
     "text": [
      "['Ahmed Hafez', 'Ali Osama', 'Ahmed Samy', 'Fady Ahmed', 'Alaa Hany', 'samy fahmy']\n"
     ]
    }
   ],
   "source": [
    "\n",
    "new_pattern = re.compile(r'[A-z]\\w+[^com]\\s[A-z]\\w+')\n",
    "updated_names = new_pattern.findall(myfile1)\n",
    "print(updated_names)"
   ]
  },
  {
   "cell_type": "code",
   "execution_count": 16,
   "id": "stone-pontiac",
   "metadata": {},
   "outputs": [
    {
     "name": "stdout",
     "output_type": "stream",
     "text": [
      "['0102345678', '0123442342', '0105632488', '0113654789', '0152364789', '0142536987']\n"
     ]
    }
   ],
   "source": [
    "new_pattern1 = re.compile(r'01\\d{8}')\n",
    "updated_phone_numbers= new_pattern1.findall(myfile1)\n",
    "print(updated_phone_numbers)"
   ]
  },
  {
   "cell_type": "code",
   "execution_count": 17,
   "id": "amino-custom",
   "metadata": {},
   "outputs": [
    {
     "name": "stdout",
     "output_type": "stream",
     "text": [
      "['ahmed@gmail.com', 'ahmedsamy123@gmail.com', 'Fady-Ahmed@yahoo.com', 'Alaa-2458-s@yahoo.com', 'samy-548-fahmy@gmail.com']\n"
     ]
    }
   ],
   "source": [
    "new_pattern3 = re.compile(r'[A-z]\\w+\\-?\\w+[A-z0-9]\\-?\\w+\\@[A-z]\\w+\\.com')\n",
    "updated_emails = new_pattern3.findall(myfile1)\n",
    "print(updated_emails)"
   ]
  },
  {
   "cell_type": "code",
   "execution_count": 27,
   "id": "67f22c81",
   "metadata": {},
   "outputs": [],
   "source": [
    "f3 = open('updatedfile1', 'w+')\n",
    "f3.writelines(['Ahmed Hafez', '-', '0102345678', '-', 'ahmed@gmail.com\\n', 'Ali Osama', '*', '0123442342', '*','ali@gmail.com\\n'])\n",
    "f3.writelines(['Ahmed Samy', ',', '0105632488', ',', 'AhmedSamy123@gmail.com\\n', 'Fady Ahmed', '\\\\', '0113654789', '\\\\', 'Fady-Ahmed@yahoo.com\\n'])\n",
    "f3.writelines(['Alaa samy', '+', '0152364789', '+','Alaa-2458-s@yahoo.com\\n', 'samy fahmy','&', '0142536987','&','samy-548-fahmy@gmail.com\\n'])\n",
    "f3.close()"
   ]
  },
  {
   "cell_type": "code",
   "execution_count": 28,
   "id": "secure-istanbul",
   "metadata": {},
   "outputs": [
    {
     "name": "stdout",
     "output_type": "stream",
     "text": [
      "Ahmed Hafez-0102345678-ahmed@gmail.com\n",
      "Ali Osama*0123442342*ali@gmail.com\n",
      "Ahmed Samy,0105632488,AhmedSamy123@gmail.com\n",
      "Fady Ahmed\\0113654789\\Fady-Ahmed@yahoo.com\n",
      "Alaa samy+0152364789+Alaa-2458-s@yahoo.com\n",
      "samy fahmy&0142536987&samy-548-fahmy@gmail.com\n",
      "\n"
     ]
    }
   ],
   "source": [
    "my_file2 = open(r'updatedfile1')\n",
    "myfile2 = my_file2.read()\n",
    "print(myfile2)"
   ]
  },
  {
   "cell_type": "code",
   "execution_count": 30,
   "id": "prescribed-elizabeth",
   "metadata": {},
   "outputs": [
    {
     "name": "stdout",
     "output_type": "stream",
     "text": [
      "['Ahmed Hafez', 'Ali Osama', 'Ahmed Samy', 'Fady Ahmed', 'Alaa samy', 'samy fahmy']\n"
     ]
    }
   ],
   "source": [
    "new_pattern4 = re.compile(r'[A-z]\\w+[^com]\\s[A-z]\\w+')\n",
    "updated_names1 = new_pattern4.findall(myfile2)\n",
    "print(updated_names1)"
   ]
  },
  {
   "cell_type": "code",
   "execution_count": 32,
   "id": "seven-private",
   "metadata": {},
   "outputs": [
    {
     "name": "stdout",
     "output_type": "stream",
     "text": [
      "['0102345678', '0123442342', '0105632488', '0113654789', '0152364789', '0142536987']\n"
     ]
    }
   ],
   "source": [
    "new_pattern5 = re.compile(r'01\\d{8}')\n",
    "updated_phone_numbers2= new_pattern5.findall(myfile2)\n",
    "print(updated_phone_numbers2)"
   ]
  },
  {
   "cell_type": "code",
   "execution_count": 36,
   "id": "related-detector",
   "metadata": {},
   "outputs": [
    {
     "name": "stdout",
     "output_type": "stream",
     "text": [
      "[' Hafez-0102345678-ahmed@gmail.com', ',AhmedSamy123@gmail.com', 'Fady-Ahmed@yahoo.com', 'Alaa-2458-s@yahoo.com', 'samy-548-fahmy@gmail.com']\n"
     ]
    }
   ],
   "source": [
    "new_pattern6 = re.compile(r'[^\\d\\\\+&][A-z]\\w+\\-?\\w+[A-z0-9]\\-?\\w+\\@[A-z]\\w+\\.com')\n",
    "updated_emails1 = new_pattern6.findall(myfile2)\n",
    "print(updated_emails1)"
   ]
  },
  {
   "cell_type": "code",
   "execution_count": null,
   "id": "optical-battlefield",
   "metadata": {},
   "outputs": [],
   "source": []
  }
 ],
 "metadata": {
  "kernelspec": {
   "display_name": "Python 3.7.2 64-bit",
   "language": "python",
   "name": "python37264bit70f953c0dd764789a1645ae35b292ba4"
  },
  "language_info": {
   "codemirror_mode": {
    "name": "ipython",
    "version": 3
   },
   "file_extension": ".py",
   "mimetype": "text/x-python",
   "name": "python",
   "nbconvert_exporter": "python",
   "pygments_lexer": "ipython3",
   "version": "3.7.2"
  }
 },
 "nbformat": 4,
 "nbformat_minor": 5
}
