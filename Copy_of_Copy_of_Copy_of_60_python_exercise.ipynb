{
  "cells": [
    {
      "cell_type": "markdown",
      "metadata": {
        "id": "view-in-github",
        "colab_type": "text"
      },
      "source": [
        "<a href=\"https://colab.research.google.com/github/aya077/Ai-diploma-tasks-projects/blob/main/Copy_of_Copy_of_Copy_of_60_python_exercise.ipynb\" target=\"_parent\"><img src=\"https://colab.research.google.com/assets/colab-badge.svg\" alt=\"Open In Colab\"/></a>"
      ]
    },
    {
      "cell_type": "markdown",
      "metadata": {
        "id": "759d04ba"
      },
      "source": [
        "**1-Write a Python program to calculate the length of a string using 2 ways"
      ],
      "id": "759d04ba"
    },
    {
      "cell_type": "code",
      "execution_count": null,
      "metadata": {
        "colab": {
          "base_uri": "https://localhost:8080/"
        },
        "id": "e434c950",
        "outputId": "fc42cffe-b551-42dc-a3ba-5c0a726f1b5e"
      },
      "outputs": [
        {
          "name": "stdout",
          "output_type": "stream",
          "text": [
            "enter a string : aya\n",
            "3\n"
          ]
        }
      ],
      "source": [
        "string = input(\"enter a string : \")\n",
        "print(len(string))"
      ],
      "id": "e434c950"
    },
    {
      "cell_type": "code",
      "execution_count": null,
      "metadata": {
        "colab": {
          "base_uri": "https://localhost:8080/"
        },
        "id": "7a2dfa32",
        "outputId": "77c3c095-c110-4489-976f-53993c4cd604"
      },
      "outputs": [
        {
          "name": "stdout",
          "output_type": "stream",
          "text": [
            "3\n"
          ]
        }
      ],
      "source": [
        "length = 0\n",
        "for i in string :\n",
        "  length +=1\n",
        "print(length)\n"
      ],
      "id": "7a2dfa32"
    },
    {
      "cell_type": "markdown",
      "metadata": {
        "id": "d7cc9da7"
      },
      "source": [
        "**2-Write a Python program to get a string made of the first 2 and last 2 characters of a given string. If the string length is less than 2, return the empty string instead (\"##Sample String : 'w3resource'\n",
        "Expected Result : 'w3ce'\n",
        "##Sample String : 'w3'\n",
        "Expected Result : 'w3w3'\n",
        "##Sample String : ' w'\n",
        "Expected Result : Empty String)"
      ],
      "id": "d7cc9da7"
    },
    {
      "cell_type": "code",
      "execution_count": null,
      "metadata": {
        "colab": {
          "base_uri": "https://localhost:8080/"
        },
        "id": "dafa9dd8",
        "outputId": "28307a8c-f4de-4868-d387-ac711d61b221"
      },
      "outputs": [
        {
          "name": "stdout",
          "output_type": "stream",
          "text": [
            "enter a string : hello\n",
            "he\n",
            "lo\n"
          ]
        }
      ],
      "source": [
        "string = input(\"enter a string : \")\n",
        "first2 = string[0:2]\n",
        "last2 = string[-2:]\n",
        "print(first2)\n",
        "print(last2)"
      ],
      "id": "dafa9dd8"
    },
    {
      "cell_type": "markdown",
      "metadata": {
        "id": "1534f956"
      },
      "source": [
        "**3-Write a Python program to add 'ing' at the end of a given string (length should be at least 3). If the given string already ends with 'ing', add 'ly' instead. If the string length of the given string is less than 3, leave it unchanged. (Sample String : 'abc'\n",
        "Expected Result : 'abcing')"
      ],
      "id": "1534f956"
    },
    {
      "cell_type": "code",
      "execution_count": null,
      "metadata": {
        "colab": {
          "base_uri": "https://localhost:8080/"
        },
        "id": "7ff8cec4",
        "outputId": "72e174da-fef8-4e71-ccc1-d82e1df15ddb"
      },
      "outputs": [
        {
          "output_type": "stream",
          "name": "stdout",
          "text": [
            "enter a string : hing\n",
            "hingly\n"
          ]
        }
      ],
      "source": [
        "\n",
        "my_string = input(\"enter a string : \")\n",
        "if len(my_string) < 3:\n",
        "    new_string = my_string\n",
        "elif my_string[-3:] == 'ing':\n",
        "    new_string = my_string + 'ly'\n",
        "else:\n",
        "    new_string = my_string + 'ing'\n",
        "print (new_string)"
      ],
      "id": "7ff8cec4"
    },
    {
      "cell_type": "markdown",
      "metadata": {
        "id": "1c0a6627"
      },
      "source": [
        "**4-Write a Python function that takes a list of words and return the longest word and the length of the longest one\n",
        "(Longest word: Exercises\n",
        "Length of the longest word: 9)"
      ],
      "id": "1c0a6627"
    },
    {
      "cell_type": "code",
      "execution_count": null,
      "metadata": {
        "colab": {
          "base_uri": "https://localhost:8080/"
        },
        "id": "397341d9",
        "outputId": "6376ca68-5440-4b55-f7da-ba2a0fca7f3e"
      },
      "outputs": [
        {
          "output_type": "execute_result",
          "data": {
            "text/plain": [
              "('banana', 6)"
            ]
          },
          "metadata": {},
          "execution_count": 4
        }
      ],
      "source": [
        "list = ['pen', 'apple', 'banana']\n",
        "\n",
        "def longest_word(word):\n",
        "\n",
        "  longest_word = max(word, key = len)\n",
        "  return longest_word, len(longest_word)\n",
        "longest_word(list)"
      ],
      "id": "397341d9"
    },
    {
      "cell_type": "markdown",
      "metadata": {
        "id": "53a03a6a"
      },
      "source": [
        "**5-Write a Python program to change a given string to a newly string where the first and last chars have been exchanged using 2 ways (Sample String:abca  Expected Result:ebce)"
      ],
      "id": "53a03a6a"
    },
    {
      "cell_type": "code",
      "execution_count": null,
      "metadata": {
        "colab": {
          "base_uri": "https://localhost:8080/"
        },
        "id": "fd327d2a",
        "outputId": "bff3255d-1cbb-41f7-e9b3-6db392e4d276"
      },
      "outputs": [
        {
          "output_type": "stream",
          "name": "stdout",
          "text": [
            "enter a string: hgtf\n",
            "fgth\n",
            "None\n"
          ]
        }
      ],
      "source": [
        "string1 = input(\"enter a string: \")\n",
        "def changestring(string):\n",
        "  first = string1[-1]\n",
        "  last = string1[0]\n",
        "  newstring = first + string1[1:-1] + last\n",
        "  print(newstring)\n",
        "\n",
        "\n",
        "print(changestring(string1))\n",
        "\n"
      ],
      "id": "fd327d2a"
    },
    {
      "cell_type": "code",
      "execution_count": null,
      "metadata": {
        "id": "285788b4"
      },
      "outputs": [],
      "source": [],
      "id": "285788b4"
    },
    {
      "cell_type": "markdown",
      "metadata": {
        "id": "25f89808"
      },
      "source": [
        "**6-Write a Python program to remove characters that have odd index values in a given string (Sample String:abca Expected Result:ac)"
      ],
      "id": "25f89808"
    },
    {
      "cell_type": "code",
      "execution_count": null,
      "metadata": {
        "colab": {
          "base_uri": "https://localhost:8080/"
        },
        "id": "05959bd7",
        "outputId": "f4f6a95a-9376-4578-e19e-75d7eea7481d"
      },
      "outputs": [
        {
          "output_type": "stream",
          "name": "stdout",
          "text": [
            "enter a string: hkjgtrdesijh\n",
            "hjtdsj\n"
          ]
        }
      ],
      "source": [
        "string2= input(\"enter a string: \")\n",
        "\n",
        "def oddstring(string):\n",
        "  newstring2 = ''\n",
        "\n",
        "  for i in range(len(string2)):\n",
        "    if i % 2 == 0:\n",
        "      newstring2 += string2[i]\n",
        "  return newstring2\n",
        "print(oddstring(string2))"
      ],
      "id": "05959bd7"
    },
    {
      "cell_type": "markdown",
      "metadata": {
        "id": "eb16e898"
      },
      "source": [
        "**7-Write a Python program to count the occurrences of each word in a given sentence (Sample String:amr and ahmed are frindes but amr is the tallest Expected Result:2)"
      ],
      "id": "eb16e898"
    },
    {
      "cell_type": "code",
      "execution_count": null,
      "metadata": {
        "id": "01ce6cf5",
        "colab": {
          "base_uri": "https://localhost:8080/"
        },
        "outputId": "6f54c952-2038-48ce-cdb1-eb7c71522d95"
      },
      "outputs": [
        {
          "output_type": "stream",
          "name": "stdout",
          "text": [
            "{'is': 1, 'the': 1, 'frindes': 1, 'and': 1, 'amr': 2, 'are': 1, 'but': 1, 'tallest': 1, 'ahmed': 1}\n"
          ]
        }
      ],
      "source": [
        "string4 = \"amr and ahmed are frindes but amr is the tallest\"\n",
        "\n",
        "#result = string4.split(' ')\n",
        "#print(len(result))\n",
        "\n",
        "my_list = string4.split()\n",
        "my_set = set(my_list)\n",
        "my_dict = {}\n",
        "for word in my_set:\n",
        "    my_dict[word] = string4.count(word)\n",
        "print(my_dict)"
      ],
      "id": "01ce6cf5"
    },
    {
      "cell_type": "markdown",
      "metadata": {
        "id": "4e8125f1"
      },
      "source": [
        "**8-Write a Python script that takes input from the user and displays that input back in upper and lower cases"
      ],
      "id": "4e8125f1"
    },
    {
      "cell_type": "code",
      "execution_count": null,
      "metadata": {
        "id": "66c8f778",
        "colab": {
          "base_uri": "https://localhost:8080/"
        },
        "outputId": "742972ff-04d9-4d2b-b53e-5da44fc34bc6"
      },
      "outputs": [
        {
          "output_type": "stream",
          "name": "stdout",
          "text": [
            "enter your name: DFH\n",
            "dfh\n"
          ]
        }
      ],
      "source": [
        "user = input(\"enter your name: \")\n",
        "#print(user.upper)\n",
        "print(user.lower())"
      ],
      "id": "66c8f778"
    },
    {
      "cell_type": "markdown",
      "metadata": {
        "id": "fcd68aa1"
      },
      "source": [
        "**9-Write a Python function to reverse a string if its length is a multiple of 4"
      ],
      "id": "fcd68aa1"
    },
    {
      "cell_type": "code",
      "execution_count": null,
      "metadata": {
        "id": "0671a931",
        "colab": {
          "base_uri": "https://localhost:8080/"
        },
        "outputId": "8c3b69a3-0fde-4f6b-d2c9-d45abb17ba8f"
      },
      "outputs": [
        {
          "output_type": "stream",
          "name": "stdout",
          "text": [
            "ghjkdliu\n",
            "uildkjhg\n"
          ]
        }
      ],
      "source": [
        "string1 = input()\n",
        "if len(string1) % 4 == 0:\n",
        "  reverse_string = ''.join(reversed(string1))\n",
        "  print(reverse_string)"
      ],
      "id": "0671a931"
    },
    {
      "cell_type": "markdown",
      "metadata": {
        "id": "b577c68d"
      },
      "source": [
        "**10- Write a Python program to remove a newline in Python"
      ],
      "id": "b577c68d"
    },
    {
      "cell_type": "code",
      "execution_count": null,
      "metadata": {
        "id": "e0c6525a",
        "colab": {
          "base_uri": "https://localhost:8080/"
        },
        "outputId": "9082edc1-b500-4eee-ffc5-2ef7ab5116b4"
      },
      "outputs": [
        {
          "output_type": "stream",
          "name": "stdout",
          "text": [
            " Hi!   ahmed\n"
          ]
        }
      ],
      "source": [
        "string = \"\\n Hi! \\n  ahmed\"\n",
        "newstring = string.replace('\\n', '')\n",
        "print(newstring)\n"
      ],
      "id": "e0c6525a"
    },
    {
      "cell_type": "markdown",
      "metadata": {
        "id": "80db5ae0"
      },
      "source": [
        "**11-Write a Python program to check whether a string starts with specified characters"
      ],
      "id": "80db5ae0"
    },
    {
      "cell_type": "code",
      "execution_count": null,
      "metadata": {
        "id": "0cc4e03e",
        "colab": {
          "base_uri": "https://localhost:8080/"
        },
        "outputId": "46be9ed0-62d8-4120-a0ca-235374af2316"
      },
      "outputs": [
        {
          "output_type": "stream",
          "name": "stdout",
          "text": [
            "True\n"
          ]
        }
      ],
      "source": [
        "string = 'hello world'\n",
        "print(string.startswith('hello'))"
      ],
      "id": "0cc4e03e"
    },
    {
      "cell_type": "markdown",
      "metadata": {
        "id": "593a68db"
      },
      "source": [
        "**12- Write a Python program to add prefix text to all of the lines in a string"
      ],
      "id": "593a68db"
    },
    {
      "cell_type": "code",
      "execution_count": null,
      "metadata": {
        "id": "d2e46ada",
        "colab": {
          "base_uri": "https://localhost:8080/"
        },
        "outputId": "4a0636bd-3b90-48ea-fcff-913180a6af19"
      },
      "outputs": [
        {
          "output_type": "stream",
          "name": "stdout",
          "text": [
            "+++ As a college student, much of your time will be\n",
            "+++spent interacting with texts of all types, shapes,\n",
            "+++sizes, and delivery methods. Sound interesting?\n",
            "+++Oh, it is. In the following sections, we’ll\n",
            "+++explore the nature of texts, what they will mean\n",
            "+++to you, and how to explore and use them\n",
            "+++effectively.\n"
          ]
        }
      ],
      "source": [
        "import textwrap\n",
        "text = '''\n",
        "As a college student, much of your time will be spent interacting with texts of all types, shapes, sizes, and delivery methods. Sound interesting? Oh, it is. In the following sections, we’ll explore the nature of texts, what they will mean to you, and how to explore and use them effectively.\n",
        "'''\n",
        "\n",
        "text1 = textwrap.dedent(text)\n",
        "wrapped = textwrap.fill(text1, width=50)\n",
        "final_result = textwrap.indent(wrapped, '+++')\n",
        "print(final_result)\n",
        "\n",
        "\n",
        "\n",
        "\n"
      ],
      "id": "d2e46ada"
    },
    {
      "cell_type": "markdown",
      "metadata": {
        "id": "86fa1543"
      },
      "source": [
        "**13-Write a Python program to print the following numbers up to 2 decimal places"
      ],
      "id": "86fa1543"
    },
    {
      "cell_type": "code",
      "execution_count": null,
      "metadata": {
        "id": "cd4a9d89",
        "colab": {
          "base_uri": "https://localhost:8080/"
        },
        "outputId": "d20db4eb-b346-4a7b-a474-4dea9d773ed5"
      },
      "outputs": [
        {
          "output_type": "stream",
          "name": "stdout",
          "text": [
            "1225.55\n"
          ]
        }
      ],
      "source": [
        "d = 1225.55485\n",
        "print('{:.2f}'.format(d))"
      ],
      "id": "cd4a9d89"
    },
    {
      "cell_type": "markdown",
      "metadata": {
        "id": "452c0ab0"
      },
      "source": [
        "**14-Write a Python program to print the following numbers up to 2 decimal places with a sign"
      ],
      "id": "452c0ab0"
    },
    {
      "cell_type": "code",
      "execution_count": null,
      "metadata": {
        "id": "73e82479",
        "colab": {
          "base_uri": "https://localhost:8080/"
        },
        "outputId": "4df79339-f53b-41ae-d5fd-7971b9094379"
      },
      "outputs": [
        {
          "output_type": "stream",
          "name": "stdout",
          "text": [
            "-1225.55\n"
          ]
        }
      ],
      "source": [
        "d = -1225.55485\n",
        "print('{:+.2f}'.format(d))\n"
      ],
      "id": "73e82479"
    },
    {
      "cell_type": "markdown",
      "metadata": {
        "id": "32b1811a"
      },
      "source": [
        "**15-Write a Python program to display a number with a comma separator"
      ],
      "id": "32b1811a"
    },
    {
      "cell_type": "code",
      "execution_count": null,
      "metadata": {
        "id": "f30fc0b6",
        "colab": {
          "base_uri": "https://localhost:8080/"
        },
        "outputId": "32277d21-1947-4796-c3f1-7a40cc8340d6"
      },
      "outputs": [
        {
          "output_type": "stream",
          "name": "stdout",
          "text": [
            "20,000\n"
          ]
        }
      ],
      "source": [
        "f = 20000\n",
        "print('{:,}'.format(f))"
      ],
      "id": "f30fc0b6"
    },
    {
      "cell_type": "markdown",
      "metadata": {
        "id": "0477f487"
      },
      "source": [
        "**16-Write a Python program to reverse a string using 2 ways"
      ],
      "id": "0477f487"
    },
    {
      "cell_type": "code",
      "execution_count": null,
      "metadata": {
        "id": "aa8beec8",
        "colab": {
          "base_uri": "https://localhost:8080/"
        },
        "outputId": "0dfb9d15-9ebb-4d1f-f6ab-274e4b88fcf9"
      },
      "outputs": [
        {
          "output_type": "stream",
          "name": "stdout",
          "text": [
            "ghjk\n",
            "kjhg\n"
          ]
        }
      ],
      "source": [
        "string = input ()\n",
        "#print(''.join(reversed(string)))\n",
        "string = string[::-1]\n",
        "print(string)\n"
      ],
      "id": "aa8beec8"
    },
    {
      "cell_type": "markdown",
      "metadata": {
        "id": "5afc3166"
      },
      "source": [
        " **17-Write a Python program to count repeated characters in a string (hint:use dictionary)"
      ],
      "id": "5afc3166"
    },
    {
      "cell_type": "code",
      "execution_count": null,
      "metadata": {
        "id": "515a469c"
      },
      "outputs": [],
      "source": [
        "my_string = input(\"enter a string \")\n",
        "my_dict = {}\n",
        "for letter in my_string:\n",
        "   my_dict[letter] = my_string.count(letter)\n",
        "\n",
        "\n",
        "print(my_dict)\n",
        "\n",
        "\n",
        "\n",
        "\n",
        "\n",
        "\n"
      ],
      "id": "515a469c"
    },
    {
      "cell_type": "markdown",
      "metadata": {
        "id": "ae14e4e5"
      },
      "source": [
        "**18-Write a Python program to find the first non-repeating character in a given string"
      ],
      "id": "ae14e4e5"
    },
    {
      "cell_type": "code",
      "execution_count": null,
      "metadata": {
        "id": "d73778e5",
        "colab": {
          "base_uri": "https://localhost:8080/"
        },
        "outputId": "2e169e60-0a82-4f9f-a742-3f3a9b73439f"
      },
      "outputs": [
        {
          "output_type": "stream",
          "name": "stdout",
          "text": [
            "f\n"
          ]
        }
      ],
      "source": [
        "def RepeatingFunc(myStr):\n",
        "\tchar_order = []\n",
        "\tcounts = {}\n",
        "\n",
        "\tfor c in myStr:\n",
        "\t\tif c in counts:\n",
        "\t\t\tcounts[c] += 1\n",
        "\t\telse:\n",
        "\t\t\tcounts[c] = 1\n",
        "\t\t\tchar_order.append(c)\n",
        "\tfor c in char_order:\n",
        "\t\tif counts[c] == 1:\n",
        "\t\t\treturn c\n",
        "\treturn None\n",
        "print(RepeatingFunc(myStr))"
      ],
      "id": "d73778e5"
    },
    {
      "cell_type": "markdown",
      "metadata": {
        "id": "3adf5669"
      },
      "source": [
        "**19-Write a Python program to remove spaces from a given string"
      ],
      "id": "3adf5669"
    },
    {
      "cell_type": "code",
      "execution_count": null,
      "metadata": {
        "id": "b4f22602",
        "colab": {
          "base_uri": "https://localhost:8080/"
        },
        "outputId": "47646fb5-9b6c-4328-f97b-5c5803c78fe6"
      },
      "outputs": [
        {
          "output_type": "stream",
          "name": "stdout",
          "text": [
            "helloworld\n"
          ]
        }
      ],
      "source": [
        "string = \"hello world\"\n",
        "print(string.replace(\" \",\"\"))"
      ],
      "id": "b4f22602"
    },
    {
      "cell_type": "markdown",
      "metadata": {
        "id": "734de60c"
      },
      "source": [
        "**20-Write a Python program to count the number of non-empty substrings of a given string"
      ],
      "id": "734de60c"
    },
    {
      "cell_type": "code",
      "execution_count": null,
      "metadata": {
        "id": "ef3f2274",
        "colab": {
          "base_uri": "https://localhost:8080/"
        },
        "outputId": "dfb2acf2-f541-4161-a288-3e20c502fd57"
      },
      "outputs": [
        {
          "output_type": "stream",
          "name": "stdout",
          "text": [
            "dfghu\n",
            "15\n"
          ]
        }
      ],
      "source": [
        "string = input()\n",
        "def substrings(string):\n",
        "  str_len = len(string)\n",
        "  return int(str_len * (str_len + 1) / 2)\n",
        "\n",
        "print(substrings(string))"
      ],
      "id": "ef3f2274"
    },
    {
      "cell_type": "markdown",
      "metadata": {
        "id": "509998e2"
      },
      "source": [
        "**21-write a Python program to swap first and last element of any list."
      ],
      "id": "509998e2"
    },
    {
      "cell_type": "code",
      "execution_count": null,
      "metadata": {
        "id": "68692d7f",
        "colab": {
          "base_uri": "https://localhost:8080/"
        },
        "outputId": "213882ac-cdcd-42fd-c71e-f0aaf4059695"
      },
      "outputs": [
        {
          "output_type": "stream",
          "name": "stdout",
          "text": [
            "[90, 65, 19, 23]\n"
          ]
        }
      ],
      "source": [
        "List = [23, 65, 19, 90]\n",
        "temp = List[0]\n",
        "List[0] = List[-1]\n",
        "List[-1] = temp\n",
        "print(List)"
      ],
      "id": "68692d7f"
    },
    {
      "cell_type": "markdown",
      "metadata": {
        "id": "959e0837"
      },
      "source": [
        "**22-Given a list in Python and provided the positions of the elements, write a program to swap the two elements in the list. (Input : List = [23, 65, 19, 90], pos1 = 1, pos2 = 3\n",
        "Output : [19, 65, 23, 90])"
      ],
      "id": "959e0837"
    },
    {
      "cell_type": "code",
      "execution_count": null,
      "metadata": {
        "id": "225d8c6d",
        "colab": {
          "base_uri": "https://localhost:8080/"
        },
        "outputId": "3cac0998-8317-48c7-8ded-063ab4602369"
      },
      "outputs": [
        {
          "output_type": "stream",
          "name": "stdout",
          "text": [
            "[19, 65, 23, 90]\n"
          ]
        }
      ],
      "source": [
        "List = [23, 65, 19, 90]\n",
        "temp = List[0]\n",
        "List[0] = List[2]\n",
        "List[2] = temp\n",
        "print(List)"
      ],
      "id": "225d8c6d"
    },
    {
      "cell_type": "markdown",
      "metadata": {
        "id": "66fc6682"
      },
      "source": [
        "**23- search for the all ways to know the length of the list"
      ],
      "id": "66fc6682"
    },
    {
      "cell_type": "code",
      "source": [
        "l8 = [1,2,3,4,5,6]\n",
        "#print(len(l8))\n",
        "length = 0\n",
        "for i in l8:\n",
        "  length += 1\n",
        "print(length)"
      ],
      "metadata": {
        "colab": {
          "base_uri": "https://localhost:8080/"
        },
        "id": "Y9ksUFZEYA8I",
        "outputId": "fe75834e-891c-4017-92a6-0002af5ac187"
      },
      "id": "Y9ksUFZEYA8I",
      "execution_count": null,
      "outputs": [
        {
          "output_type": "stream",
          "name": "stdout",
          "text": [
            "6\n"
          ]
        }
      ]
    },
    {
      "cell_type": "markdown",
      "source": [],
      "metadata": {
        "id": "U6rs8CBnfamd"
      },
      "id": "U6rs8CBnfamd"
    },
    {
      "cell_type": "markdown",
      "source": [
        "**24-write a Python code to find the Maximum number of list of numbers\n"
      ],
      "metadata": {
        "id": "Qvays5Exfe5L"
      },
      "id": "Qvays5Exfe5L"
    },
    {
      "cell_type": "code",
      "execution_count": null,
      "metadata": {
        "id": "15f342de",
        "colab": {
          "base_uri": "https://localhost:8080/"
        },
        "outputId": "040bccab-c90c-4ff4-8b61-51135f008ecd"
      },
      "outputs": [
        {
          "output_type": "stream",
          "name": "stdout",
          "text": [
            "6\n"
          ]
        }
      ],
      "source": [
        "l8 = [1,2,3,4,5,6]\n",
        "print(max(l8))"
      ],
      "id": "15f342de"
    },
    {
      "cell_type": "markdown",
      "source": [
        "**25-write a Python code to find the Minimum number of list of numbers."
      ],
      "metadata": {
        "id": "KHL7N7wZfqt6"
      },
      "id": "KHL7N7wZfqt6"
    },
    {
      "cell_type": "code",
      "execution_count": null,
      "metadata": {
        "id": "21f8cbd6",
        "colab": {
          "base_uri": "https://localhost:8080/"
        },
        "outputId": "a5e68891-9c3a-4d10-d631-db28038609b9"
      },
      "outputs": [
        {
          "output_type": "stream",
          "name": "stdout",
          "text": [
            "1\n"
          ]
        }
      ],
      "source": [
        "l8 = [1,2,3,4,5,6]\n",
        "print(min(l8))"
      ],
      "id": "21f8cbd6"
    },
    {
      "cell_type": "markdown",
      "metadata": {
        "id": "96822d96"
      },
      "source": [
        "**26-search for if an elem is existing in list"
      ],
      "id": "96822d96"
    },
    {
      "cell_type": "code",
      "execution_count": null,
      "metadata": {
        "id": "51ca5c9a",
        "colab": {
          "base_uri": "https://localhost:8080/"
        },
        "outputId": "f6654c1a-5df2-4e34-f162-87da0e3f6e6e"
      },
      "outputs": [
        {
          "output_type": "stream",
          "name": "stdout",
          "text": [
            "exist\n"
          ]
        }
      ],
      "source": [
        "l7 = [1,2,3,4,5,6]\n",
        "i = 4\n",
        "if i in l7:\n",
        "  print(\"exist\")\n",
        "else:\n",
        "  print(\"not exist\")\n",
        "\n"
      ],
      "id": "51ca5c9a"
    },
    {
      "cell_type": "markdown",
      "metadata": {
        "id": "d9557da7"
      },
      "source": [
        "**27- clear python list using different ways"
      ],
      "id": "d9557da7"
    },
    {
      "cell_type": "code",
      "execution_count": null,
      "metadata": {
        "id": "b69858a3",
        "colab": {
          "base_uri": "https://localhost:8080/"
        },
        "outputId": "b8902ba8-21c3-4f39-a41b-da85700d8e1c"
      },
      "outputs": [
        {
          "output_type": "stream",
          "name": "stdout",
          "text": [
            "[]\n"
          ]
        }
      ],
      "source": [
        "l5 = [1,2,3,5]\n",
        "#print(l5.clear())\n",
        "del l5[:]\n",
        "print(l5)"
      ],
      "id": "b69858a3"
    },
    {
      "cell_type": "markdown",
      "metadata": {
        "id": "52160e88"
      },
      "source": [
        "**28-remove duplicated elements from a list"
      ],
      "id": "52160e88"
    },
    {
      "cell_type": "code",
      "execution_count": null,
      "metadata": {
        "id": "5e362228",
        "colab": {
          "base_uri": "https://localhost:8080/"
        },
        "outputId": "9bd2e208-7767-4a50-bdb5-b3d6a3250921"
      },
      "outputs": [
        {
          "output_type": "stream",
          "name": "stdout",
          "text": [
            "[8, 1, 2, 5]\n"
          ]
        }
      ],
      "source": [
        "l2 = [1,2,1,5,8,5,8,2]\n",
        "unique_e = list(set(l2))\n",
        "print(unique_e)"
      ],
      "id": "5e362228"
    },
    {
      "cell_type": "markdown",
      "metadata": {
        "id": "282337f7"
      },
      "source": [
        "**29-Given list values and keys list, convert these values to key value pairs in form of list of dictionaries. (Input : test_list = [“Gfg”, 3, “is”, 8], key_list = [“name”, “id”]\n",
        "Output : [{‘name’: ‘Gfg’, ‘id’: 3}, {‘name’: ‘is’, ‘id’: 8}])"
      ],
      "id": "282337f7"
    },
    {
      "cell_type": "code",
      "execution_count": null,
      "metadata": {
        "colab": {
          "base_uri": "https://localhost:8080/"
        },
        "id": "4d4e2d28",
        "outputId": "e5ab992c-780f-49b9-93e9-defdea864148"
      },
      "outputs": [
        {
          "name": "stdout",
          "output_type": "stream",
          "text": [
            "[{'name': 'gfg', 'id': 3}, {'name': 'is', 'id': 8}]\n"
          ]
        }
      ],
      "source": [
        "values = ['gfg', 3, 'is', 8]\n",
        "keys = [\"name\", 'id']\n",
        "\n",
        "mydict1= dict(zip(keys, values))\n",
        "mydict2= dict(zip(keys,  values[2:]))\n",
        "listofdict = [mydict1, mydict2]\n",
        "print(listofdict)\n"
      ],
      "id": "4d4e2d28"
    },
    {
      "cell_type": "markdown",
      "metadata": {
        "id": "iTOdAg1N6b3S"
      },
      "source": [
        "**29-Given list values and keys list, convert these values to key value pairs in form of list of dictionaries. (Input : test_list = [“Gfg”, 3, “is”, 8], key_list = [“name”, “id”]\n",
        "Output : [{‘name’: ‘Gfg’, ‘id’: 3}, {‘name’: ‘is’, ‘id’: 8}])"
      ],
      "id": "iTOdAg1N6b3S"
    },
    {
      "cell_type": "markdown",
      "metadata": {
        "id": "c26b6e9f"
      },
      "source": [
        "**30-write a python program to count unique values inside a list using different ways"
      ],
      "id": "c26b6e9f"
    },
    {
      "cell_type": "code",
      "execution_count": null,
      "metadata": {
        "colab": {
          "base_uri": "https://localhost:8080/"
        },
        "id": "72132667",
        "outputId": "34d7e362-6e9b-43e5-f8bf-1158c7f31003"
      },
      "outputs": [
        {
          "name": "stdout",
          "output_type": "stream",
          "text": [
            "6\n"
          ]
        }
      ],
      "source": [
        "list1 = [1, 2, 3, 5, 5, 6, 6, 7]\n",
        "count = 0\n",
        "for i in set(list1):\n",
        "  count += 1\n",
        "print(count)"
      ],
      "id": "72132667"
    },
    {
      "cell_type": "markdown",
      "metadata": {
        "id": "fed6677c"
      },
      "source": [
        "**31-write a python program Extract all elements with Frequency greater than K (Input : test_list = [4, 6, 4, 3, 3, 4, 3, 4, 3, 8], K = 3\n",
        "Output : [4, 3] )"
      ],
      "id": "fed6677c"
    },
    {
      "cell_type": "code",
      "execution_count": null,
      "metadata": {
        "colab": {
          "base_uri": "https://localhost:8080/"
        },
        "id": "d81f3f9d",
        "outputId": "0ca50362-7390-4d94-c5d8-c5df7b8d1504"
      },
      "outputs": [
        {
          "name": "stdout",
          "output_type": "stream",
          "text": [
            "[3, 4]\n"
          ]
        }
      ],
      "source": [
        "test_list = [4, 4, 3, 3, 4, 3, 4, 3, 8]\n",
        "k = 3\n",
        "elements = []\n",
        "for i in set(test_list):\n",
        "  freq = test_list.count(i)\n",
        "  if freq > 3:\n",
        "    elements.append(i)\n",
        "print(elements)\n"
      ],
      "id": "d81f3f9d"
    },
    {
      "cell_type": "markdown",
      "metadata": {
        "id": "caca5224"
      },
      "source": [
        "**32-write a python program to find the Strongest Neighbour (Input: 1 2 2 3 4 5\n",
        "Output: 2 2 3 4 5)"
      ],
      "id": "caca5224"
    },
    {
      "cell_type": "code",
      "execution_count": null,
      "metadata": {
        "colab": {
          "base_uri": "https://localhost:8080/"
        },
        "id": "39fbd9b2",
        "outputId": "80f524e7-3b8d-47da-84c1-ee4d0694ddb9"
      },
      "outputs": [
        {
          "name": "stdout",
          "output_type": "stream",
          "text": [
            "2 3 4 5 "
          ]
        }
      ],
      "source": [
        "l = [1, 2, 3, 4, 5]\n",
        "l1 = []\n",
        "for i in range(1, len(l)):\n",
        "  strogn = max(l[i], l[i-1])\n",
        "  l1.append(strogn)\n",
        "for i in l1:\n",
        "\n",
        "  print(i, end=\" \")\n",
        "\n"
      ],
      "id": "39fbd9b2"
    },
    {
      "cell_type": "markdown",
      "metadata": {
        "id": "a9fa8baf"
      },
      "source": [
        "**33-write a Python Program to print all Possible Combinations from the three Digits (Input: [1, 2, 3]\n",
        "Output:\n",
        "1 2 3 ##\n",
        "1 3 2 ##\n",
        "2 1 3 ##\n",
        "2 3 1 ##\n",
        "3 1 2 ##\n",
        "3 2 1)"
      ],
      "id": "a9fa8baf"
    },
    {
      "cell_type": "code",
      "execution_count": null,
      "metadata": {
        "colab": {
          "base_uri": "https://localhost:8080/"
        },
        "id": "8c520a76",
        "outputId": "82ded54e-c507-4c5d-d2f7-b20150f2e223"
      },
      "outputs": [
        {
          "name": "stdout",
          "output_type": "stream",
          "text": [
            "1 2 3\n",
            "1 3 2\n",
            "2 1 3\n",
            "2 3 1\n",
            "3 1 2\n",
            "3 2 1\n"
          ]
        }
      ],
      "source": [
        "list = [1,2,3]\n",
        "def combination(list):\n",
        "  for a in range(3):\n",
        "    for b in range(3):\n",
        "      for c in range(3):\n",
        "\n",
        "        if (list[a]!=list[b] and list[b]!=list[c] and list[a]!= list[c]):\n",
        "          print(list[a],list[b],list[c])\n",
        "combination([1,2,3])\n",
        "\n"
      ],
      "id": "8c520a76"
    },
    {
      "cell_type": "code",
      "execution_count": null,
      "metadata": {
        "id": "OWGlcXBgCpB8"
      },
      "outputs": [],
      "source": [],
      "id": "OWGlcXBgCpB8"
    },
    {
      "cell_type": "markdown",
      "metadata": {
        "id": "5288bb89"
      },
      "source": [
        "**34-write a Python program to find all the Combinations in the list with the given condition (Input: test_list = [1,2,3]\n",
        "Output:\n",
        " [1], [1, 2], [1, 2, 3], [1, 3]\n",
        " [2], [2, 3], [3])"
      ],
      "id": "5288bb89"
    },
    {
      "cell_type": "code",
      "execution_count": null,
      "metadata": {
        "colab": {
          "background_save": true,
          "base_uri": "https://localhost:8080/"
        },
        "id": "59b89646",
        "outputId": "76ff189d-cbac-49a5-e245-e983e72d1eef"
      },
      "outputs": [
        {
          "name": "stdout",
          "output_type": "stream",
          "text": [
            "<itertools.combinations object at 0x7f8b2d5c9e40>\n"
          ]
        }
      ],
      "source": [
        "from itertools import combinations\n",
        "test_list = [1,2,3]\n",
        "new_lists = [combinations(test_list, 2)]\n",
        "index = 0\n",
        "for i in new_lists:\n",
        "  index += 1\n",
        "  print(i)\n",
        "\n"
      ],
      "id": "59b89646"
    },
    {
      "cell_type": "markdown",
      "metadata": {
        "id": "39973705"
      },
      "source": [
        "**35-write a Python program to get all unique combinations of two Lists (List_1 = [\"a\",\"b\"]\n",
        "List_2 = [1,2]\n",
        "Unique_combination = [[('a',1),('b',2)],[('a',2),('b',1)]] )"
      ],
      "id": "39973705"
    },
    {
      "cell_type": "code",
      "execution_count": null,
      "metadata": {
        "id": "8c4ba22b",
        "colab": {
          "base_uri": "https://localhost:8080/"
        },
        "outputId": "1b646c46-9db8-466a-89ad-3c7c2ae6c62f"
      },
      "outputs": [
        {
          "output_type": "stream",
          "name": "stdout",
          "text": [
            "[('a', 1), ('a', 2), ('b', 1), ('b', 2)]\n"
          ]
        }
      ],
      "source": [
        "List_1 = [\"a\",\"b\"]\n",
        "List_2 = [1,2]\n",
        "Unique_combination = []\n",
        "for i in range(len(List_1)):\n",
        "  for k in range(len(List_2)):\n",
        "\n",
        "    Unique_combination.append((List_1[i], List_2[k]))\n",
        "print(Unique_combination)\n",
        "\n"
      ],
      "id": "8c4ba22b"
    },
    {
      "cell_type": "markdown",
      "metadata": {
        "id": "25199af5"
      },
      "source": [
        "**36-Remove all the occurrences of an element from a list in Python (Input : 1 1 2 3 4 5 1 2 1\n",
        "\n",
        "**Output : 2 3 4 5 2)"
      ],
      "id": "25199af5"
    },
    {
      "cell_type": "code",
      "execution_count": null,
      "metadata": {
        "id": "6dc4c2ba",
        "colab": {
          "base_uri": "https://localhost:8080/"
        },
        "outputId": "af1f5956-d60d-471a-bd97-98f91391ac68"
      },
      "outputs": [
        {
          "output_type": "stream",
          "name": "stdout",
          "text": [
            "[2, 3, 4, 5, 2]\n"
          ]
        }
      ],
      "source": [
        "list1 = [1, 1, 2, 3, 4, 5, 1, 2, 1]\n",
        "element = 1\n",
        "result = [i for i in list1 if i != element]\n",
        "print(result)"
      ],
      "id": "6dc4c2ba"
    },
    {
      "cell_type": "markdown",
      "metadata": {
        "id": "bf1a3c93"
      },
      "source": [
        "**37-write a python program to Replace index elements with elements in Other List (The original list 1 is : [‘Gfg’, ‘is’, ‘best’] The original list 2 is : [0, 1, 2, 1, 0, 0, 0, 2, 1, 1, 2, 0] The lists after index elements replacements is : [‘Gfg’, ‘is’, ‘best’, ‘is’, ‘Gfg’, ‘Gfg’, ‘Gfg’, ‘best’, ‘is’, ‘is’, ‘best’, ‘Gfg’])"
      ],
      "id": "bf1a3c93"
    },
    {
      "cell_type": "code",
      "execution_count": null,
      "metadata": {
        "id": "fdd66a71",
        "colab": {
          "base_uri": "https://localhost:8080/"
        },
        "outputId": "4f64ebb8-72bd-4959-c67e-2efd540dfa57"
      },
      "outputs": [
        {
          "output_type": "stream",
          "name": "stdout",
          "text": [
            "['Gfg', 'is', 'best', 'is', 'Gfg', 'Gfg', 'Gfg', 'best', 'is', 'is', 'best', 'Gfg']\n"
          ]
        }
      ],
      "source": [
        "list1 = ['Gfg', 'is', 'best']\n",
        "list2 = [0, 1, 2, 1, 0, 0, 0, 2, 1, 1, 2, 0]\n",
        "R = [list1[i] for i in list2]\n",
        "print(R)"
      ],
      "id": "fdd66a71"
    },
    {
      "cell_type": "markdown",
      "metadata": {
        "id": "af0f56e8"
      },
      "source": [
        "**38- write python program to Retain records with N occurrences of K(Input : test_list = [(4, 5, 5, 4), (5, 4, 3)], K = 5, N = 2\n",
        "Output : [(4, 5, 5, 4)]\n",
        "Input : test_list = [(4, 5, 5, 4), (5, 4, 3)], K = 5, N = 3\n",
        "Output : [] )"
      ],
      "id": "af0f56e8"
    },
    {
      "cell_type": "code",
      "execution_count": null,
      "metadata": {
        "id": "67b06671",
        "colab": {
          "base_uri": "https://localhost:8080/"
        },
        "outputId": "b5fe9548-be80-45bf-bb95-c67d8f80abf1"
      },
      "outputs": [
        {
          "output_type": "stream",
          "name": "stdout",
          "text": [
            "[]\n"
          ]
        }
      ],
      "source": [
        " test_list = [(4, 5, 5, 4), (5, 4, 3)]\n",
        " K = 5\n",
        " N = 3\n",
        " result = [i for i in test_list if i.count(K) == N]\n",
        " print(result)"
      ],
      "id": "67b06671"
    },
    {
      "cell_type": "markdown",
      "metadata": {
        "id": "de76f183"
      },
      "source": [
        "**39-write a Python Program to Sort the list according to the column using lambda\n",
        "array = [[1, 3, 3], [2, 1, 2], [3, 2, 1]]\n",
        "Output :\n",
        "Sorted array specific to column 0, [[1, 3, 3], [2, 1, 2], [3, 2, 1]]\n",
        "Sorted array specific to column 1, [[2, 1, 2], [3, 2, 1], [1, 3, 3]]\n",
        "Sorted array specific to column 2, [[3, 2, 1], [2, 1, 2], [1, 3, 3]]"
      ],
      "id": "de76f183"
    },
    {
      "cell_type": "markdown",
      "source": [],
      "metadata": {
        "id": "7uqhtmvTBe9k"
      },
      "id": "7uqhtmvTBe9k"
    },
    {
      "cell_type": "code",
      "source": [
        "array = [[1, 3, 3], [2, 1, 2], [3, 2, 1]]\n",
        "def sortarray(array):\n",
        "\n",
        "  for i in range(len(array[0])):\n",
        "\n",
        "    #i is the column index\n",
        "\n",
        "    sortedcolumn = sorted(array, key = lambda x:x[i])\n",
        "    return sortedcolumn\n",
        "\n",
        "print(sortarray(array))\n",
        "\n",
        "\n"
      ],
      "metadata": {
        "colab": {
          "base_uri": "https://localhost:8080/"
        },
        "id": "y0yzMkWPYq3j",
        "outputId": "995f394b-6468-4a6c-831f-4723241f727b"
      },
      "id": "y0yzMkWPYq3j",
      "execution_count": null,
      "outputs": [
        {
          "output_type": "stream",
          "name": "stdout",
          "text": [
            "[[1, 3, 3], [2, 1, 2], [3, 2, 1]]\n"
          ]
        }
      ]
    },
    {
      "cell_type": "code",
      "execution_count": null,
      "metadata": {
        "id": "d2e7b31f"
      },
      "outputs": [],
      "source": [
        "1**40- write a program to Sort Python Dictionaries by Key or Value\n",
        "Input:\n",
        "{'ravi': 10, 'rajnish': 9, 'sanjeev': 15, 'yash': 2, 'suraj': 32}\n",
        "\n",
        "Output:\n",
        "{'rajnish': 9, 'ravi': 10, 'sanjeev': 15, 'suraj': 32, 'yash': 2}"
      ],
      "id": "d2e7b31f"
    },
    {
      "cell_type": "code",
      "execution_count": null,
      "metadata": {
        "id": "a96db4a0",
        "colab": {
          "base_uri": "https://localhost:8080/"
        },
        "outputId": "d48ef6c9-4456-46c0-97e4-f53eedc5ca2e"
      },
      "outputs": [
        {
          "output_type": "execute_result",
          "data": {
            "text/plain": [
              "{'yash': 2, 'rajnish': 9, 'ravi': 10, 'sanjeev': 15, 'suraj': 32}"
            ]
          },
          "metadata": {},
          "execution_count": 10
        }
      ],
      "source": [
        "mydict4 =  {'ravi': 10, 'rajnish': 9, 'sanjeev': 15, 'yash': 2, 'suraj': 32}\n",
        "#by keys\n",
        "#dict(sorted(mydict4.items()))\n",
        "#by values\n",
        "dict(sorted(mydict4.items(), key= lambda item:item[1]))\n"
      ],
      "id": "a96db4a0"
    },
    {
      "cell_type": "markdown",
      "metadata": {
        "id": "ec63c23a"
      },
      "source": [
        "**41-write python program to Remove keys with Values Greater than K ( Including mixed values )\n",
        "nput : test_dict = {‘Gfg’ : 3, ‘is’ : 7, ‘best’ : 10, ‘for’ : 6, ‘geeks’ : ‘CS’},\n",
        "K = 7\n",
        "Output : {‘Gfg’ : 3, ‘for’ : 6, ‘geeks’ : ‘CS’}"
      ],
      "id": "ec63c23a"
    },
    {
      "cell_type": "code",
      "execution_count": null,
      "metadata": {
        "id": "e39c3a40",
        "colab": {
          "base_uri": "https://localhost:8080/"
        },
        "outputId": "5e976c42-acd5-4a4f-cb63-2362a3c9be73"
      },
      "outputs": [
        {
          "output_type": "stream",
          "name": "stdout",
          "text": [
            "{'Gfg': 3, 'for': 6, 'geeks': 'CS'}\n"
          ]
        }
      ],
      "source": [
        "test_dict = {'Gfg' : 3, 'is' : 7, 'best' : 10, 'for' : 6, 'geeks' : 'CS'}\n",
        "\n",
        "\n",
        "def removeitem(test_dict):\n",
        "  keys = list(test_dict)\n",
        "\n",
        "  for k in keys:\n",
        "\n",
        "\n",
        "\n",
        "    if test_dict[k] > 6:\n",
        "\n",
        "\n",
        "      del test_dict[k]\n",
        "\n",
        "\n",
        "\n",
        "\n",
        "\n",
        "      return test_dict\n",
        "\n",
        "\n",
        "\n",
        "print(removeitem(test_dict1))\n",
        "\n"
      ],
      "id": "e39c3a40"
    },
    {
      "cell_type": "markdown",
      "metadata": {
        "id": "f143f0fe"
      },
      "source": [
        "**42-Write a Python program to concatenate the following dictionaries to create a new one\n",
        "\n",
        "Sample Dictionary :\n",
        "dic1={1:10, 2:20}\n",
        "dic2={3:30, 4:40}\n",
        "dic3={5:50,6:60}\n",
        "Expected Result : {1: 10, 2: 20, 3: 30, 4: 40, 5: 50, 6: 60}"
      ],
      "id": "f143f0fe"
    },
    {
      "cell_type": "code",
      "execution_count": null,
      "metadata": {
        "id": "74ffdfea",
        "colab": {
          "base_uri": "https://localhost:8080/"
        },
        "outputId": "46681db3-026a-4e70-8b4d-2cee69419966"
      },
      "outputs": [
        {
          "output_type": "stream",
          "name": "stdout",
          "text": [
            "{1: 10, 2: 20, 3: 30, 4: 40, 5: 50, 6: 60}\n"
          ]
        }
      ],
      "source": [
        "dict1={1:10, 2:20}\n",
        "dict2={3:30, 4:40}\n",
        "dict3={5:50,6:60}\n",
        "dict4 = {}\n",
        "for i in (dict1,dict2,dict3):\n",
        "  dict4.update(i)\n",
        "\n",
        "print(dict4)\n",
        "\n"
      ],
      "id": "74ffdfea"
    },
    {
      "cell_type": "markdown",
      "metadata": {
        "id": "fb04c93c"
      },
      "source": [
        "**43-Write a Python program to iterate over dictionaries using for loops"
      ],
      "id": "fb04c93c"
    },
    {
      "cell_type": "code",
      "execution_count": null,
      "metadata": {
        "id": "6aebc470",
        "colab": {
          "base_uri": "https://localhost:8080/"
        },
        "outputId": "40db9804-42bf-41fc-b005-207d3485ff52"
      },
      "outputs": [
        {
          "output_type": "stream",
          "name": "stdout",
          "text": [
            "o 2\n",
            "h 8\n",
            "l 6\n",
            "y 7\n"
          ]
        }
      ],
      "source": [
        "my_dict1 = {\"o\":2, \"h\":8, \"l\":6, \"y\":7}\n",
        "for key,value in my_dict1.items():\n",
        "  print(key,value)"
      ],
      "id": "6aebc470"
    },
    {
      "cell_type": "markdown",
      "metadata": {
        "id": "5f491a9d"
      },
      "source": [
        "**44- Write a Python script to merge two Python dictionaries"
      ],
      "id": "5f491a9d"
    },
    {
      "cell_type": "code",
      "execution_count": null,
      "metadata": {
        "id": "b8a14028",
        "colab": {
          "base_uri": "https://localhost:8080/"
        },
        "outputId": "57506cb3-1acc-4cd9-c542-ff3ce367a675"
      },
      "outputs": [
        {
          "output_type": "stream",
          "name": "stdout",
          "text": [
            "{'e': 88, 'f': 66, 'i': 8, 'o': 9}\n"
          ]
        }
      ],
      "source": [
        "dict1 = {\"e\":88, \"f\":66}\n",
        "dict2 = {\"i\":8, \"o\":9}\n",
        "dict1.update(dict2)\n",
        "print(dict1)"
      ],
      "id": "b8a14028"
    },
    {
      "cell_type": "markdown",
      "metadata": {
        "id": "216fc72d"
      },
      "source": [
        "**45-Write a Python program to get the maximum and minimum values of a dictionary values"
      ],
      "id": "216fc72d"
    },
    {
      "cell_type": "code",
      "execution_count": null,
      "metadata": {
        "id": "d6883f5f",
        "colab": {
          "base_uri": "https://localhost:8080/"
        },
        "outputId": "12d84359-3011-498b-b0dc-058e576f7b32"
      },
      "outputs": [
        {
          "output_type": "stream",
          "name": "stdout",
          "text": [
            "20\n",
            "58\n"
          ]
        }
      ],
      "source": [
        "my_dict = {\"g\":20, \"j\":25, \"i\":58}\n",
        "print(min(my_dict.values()))\n",
        "print(max(my_dict.values()))\n"
      ],
      "id": "d6883f5f"
    },
    {
      "cell_type": "markdown",
      "metadata": {
        "id": "b6a53011"
      },
      "source": [
        "**46- Write a Python program to drop empty items from a given dictionary.\n",
        "Original Dictionary:\n",
        "{'c1': 'Red', 'c2': 'Green', 'c3': None}\n",
        "New Dictionary after dropping empty items:\n",
        "{'c1': 'Red', 'c2': 'Green'}"
      ],
      "id": "b6a53011"
    },
    {
      "cell_type": "code",
      "execution_count": null,
      "metadata": {
        "id": "b5c6fecf",
        "colab": {
          "base_uri": "https://localhost:8080/"
        },
        "outputId": "180054f7-5f1b-4e82-cc20-b19f2d97b43d"
      },
      "outputs": [
        {
          "output_type": "stream",
          "name": "stdout",
          "text": [
            "{'c1': 'Red', 'c2': 'Green'}\n"
          ]
        }
      ],
      "source": [
        "mydict = {'c1': 'Red', 'c2': 'Green', 'c3':None}\n",
        "newdict = {key:value for (key, value) in mydict.items() if value is not None}\n",
        "print(newdict)"
      ],
      "id": "b5c6fecf"
    },
    {
      "cell_type": "markdown",
      "metadata": {
        "id": "46d718c7"
      },
      "source": [
        "**47-Write a Python program to create a tuple of numbers and print one item"
      ],
      "id": "46d718c7"
    },
    {
      "cell_type": "code",
      "execution_count": null,
      "metadata": {
        "id": "13216ff5",
        "colab": {
          "base_uri": "https://localhost:8080/"
        },
        "outputId": "83c57122-745d-4116-b4cf-798e325f8ef4"
      },
      "outputs": [
        {
          "output_type": "stream",
          "name": "stdout",
          "text": [
            "4\n"
          ]
        }
      ],
      "source": [
        "from random import randint\n",
        "tuple2 = (4, 5, 8, 9)\n",
        "tuple3 = tuple2[randint(0, len(tuple2)-1)]\n",
        "print(tuple3)\n",
        "\n"
      ],
      "id": "13216ff5"
    },
    {
      "cell_type": "markdown",
      "metadata": {
        "id": "2be5b56b"
      },
      "source": [
        "**48-Write a Python program to unpack a tuple into several variables"
      ],
      "id": "2be5b56b"
    },
    {
      "cell_type": "code",
      "execution_count": null,
      "metadata": {
        "id": "595f44be",
        "colab": {
          "base_uri": "https://localhost:8080/"
        },
        "outputId": "b4cfcca9-5df4-414b-ce26-4a94c37e7181"
      },
      "outputs": [
        {
          "output_type": "stream",
          "name": "stdout",
          "text": [
            "2 5 7\n"
          ]
        }
      ],
      "source": [
        "\n",
        "tuple1 = (2, 5, 7)\n",
        "j, k, l = tuple1\n",
        "print(j,k,l)"
      ],
      "id": "595f44be"
    },
    {
      "cell_type": "markdown",
      "metadata": {
        "id": "392388a7"
      },
      "source": [
        "**49-Write a Python program to add an item to a tuple"
      ],
      "id": "392388a7"
    },
    {
      "cell_type": "code",
      "execution_count": null,
      "metadata": {
        "id": "54cc092e",
        "colab": {
          "base_uri": "https://localhost:8080/"
        },
        "outputId": "70e9ea9d-16c4-4d03-8156-d9d979303e5f"
      },
      "outputs": [
        {
          "output_type": "stream",
          "name": "stdout",
          "text": [
            "(2, 5, 6, 8, 9, 7, 4)\n"
          ]
        }
      ],
      "source": [
        "f = (2, 5, 6, 8, 9, 7)\n",
        "f1 = f + (4,)\n",
        "print(f1)"
      ],
      "id": "54cc092e"
    },
    {
      "cell_type": "markdown",
      "metadata": {
        "id": "3e8fd124"
      },
      "source": [
        "**50-Write a Python program to convert a tuple to a string"
      ],
      "id": "3e8fd124"
    },
    {
      "cell_type": "code",
      "execution_count": null,
      "metadata": {
        "id": "92a71ddc",
        "colab": {
          "base_uri": "https://localhost:8080/"
        },
        "outputId": "095dc528-a243-49d7-acca-5f3de27a9a39"
      },
      "outputs": [
        {
          "output_type": "stream",
          "name": "stdout",
          "text": [
            "ayk\n"
          ]
        }
      ],
      "source": [
        "\n",
        "\n",
        "t5 = (\"a\", \"y\", \"k\")\n",
        "\n",
        "NEW = ''.join(map(str, t5))\n",
        "print(NEW)"
      ],
      "id": "92a71ddc"
    },
    {
      "cell_type": "markdown",
      "metadata": {
        "id": "f4f64ef4"
      },
      "source": [
        "**51-Write a Python program to convert a list to a tuple"
      ],
      "id": "f4f64ef4"
    },
    {
      "cell_type": "code",
      "execution_count": null,
      "metadata": {
        "id": "210d56d3",
        "colab": {
          "base_uri": "https://localhost:8080/"
        },
        "outputId": "3e39b560-e26d-41a2-d323-0ece907740e2"
      },
      "outputs": [
        {
          "output_type": "stream",
          "name": "stdout",
          "text": [
            "(2, 3, 6, 9, 7)\n"
          ]
        }
      ],
      "source": [
        "t4 =[2, 3, 6, 9, 7]\n",
        "new1 = tuple(t4)\n",
        "print(new1)"
      ],
      "id": "210d56d3"
    },
    {
      "cell_type": "markdown",
      "metadata": {
        "id": "b1e00ef7"
      },
      "source": [
        "**52-Write a Python program to reverse a tuple"
      ],
      "id": "b1e00ef7"
    },
    {
      "cell_type": "code",
      "execution_count": null,
      "metadata": {
        "id": "f45bfdc7",
        "colab": {
          "base_uri": "https://localhost:8080/"
        },
        "outputId": "10411a1c-7698-4e04-ff50-14f0d430bae7"
      },
      "outputs": [
        {
          "output_type": "stream",
          "name": "stdout",
          "text": [
            "(9, 8, 3, 2)\n"
          ]
        }
      ],
      "source": [
        "t3 = (2, 3, 8, 9)\n",
        "result = reversed(t3)\n",
        "result = tuple(result)\n",
        "print(result)"
      ],
      "id": "f45bfdc7"
    },
    {
      "cell_type": "markdown",
      "metadata": {
        "id": "3cd347d1"
      },
      "source": [
        "**53-Write a Python program to replace the last value of tuples in a list.\n",
        "Sample list: [(10, 20, 40), (40, 50, 60), (70, 80, 90)]\n",
        "Expected Output: [(10, 20, 100), (40, 50, 100), (70, 80, 100)]"
      ],
      "id": "3cd347d1"
    },
    {
      "cell_type": "code",
      "execution_count": null,
      "metadata": {
        "id": "3c4a2a4c",
        "colab": {
          "base_uri": "https://localhost:8080/"
        },
        "outputId": "83d9a60c-a890-42fa-cbdd-e1875e3e3d2e"
      },
      "outputs": [
        {
          "output_type": "stream",
          "name": "stdout",
          "text": [
            "[(10, 20, 100), (40, 50, 100), (70, 80, 100)]\n"
          ]
        }
      ],
      "source": [
        "l1 =[(10,20,40), (40,50,60), (70,80,90)]\n",
        "new_list = [i[:len(i)-1]+(100,) for i in l1]\n",
        "print(new_list)\n",
        "\n",
        "\n",
        "\n",
        "\n"
      ],
      "id": "3c4a2a4c"
    },
    {
      "cell_type": "markdown",
      "metadata": {
        "id": "76bb7b39"
      },
      "source": [
        "**54-Write a Python program to convert a given string list to a tuple\n",
        "Original string: python 3.0\n",
        "<class 'str'>\n",
        "Convert the said string to a tuple:\n",
        "('p', 'y', 't', 'h', 'o', 'n', '3', '.', '0')"
      ],
      "id": "76bb7b39"
    },
    {
      "cell_type": "code",
      "execution_count": null,
      "metadata": {
        "id": "51951937",
        "colab": {
          "base_uri": "https://localhost:8080/"
        },
        "outputId": "fd0af671-3c02-44cb-dca3-70a49cc902d3"
      },
      "outputs": [
        {
          "output_type": "stream",
          "name": "stdout",
          "text": [
            "('p', 'y', 'h', 'o', '3', '.', '0')\n"
          ]
        }
      ],
      "source": [
        "t2 = ('p','y','h','o','3','.','0')\n",
        "new_t = tuple(t2)\n",
        "print(new_t)"
      ],
      "id": "51951937"
    },
    {
      "cell_type": "markdown",
      "metadata": {
        "id": "5a1d5d97"
      },
      "source": [
        "**55-Write a Python program to calculate the average value of the numbers in a given tuple of tuples"
      ],
      "id": "5a1d5d97"
    },
    {
      "cell_type": "code",
      "execution_count": null,
      "metadata": {
        "id": "834e7992",
        "colab": {
          "base_uri": "https://localhost:8080/"
        },
        "outputId": "778de948-af39-4757-945e-4ed6f006cf7d"
      },
      "outputs": [
        {
          "output_type": "stream",
          "name": "stdout",
          "text": [
            "11.0\n"
          ]
        }
      ],
      "source": [
        "t = ((1,2), (5,6), (8,5), (8,9))\n",
        "temp = sum(map(sum, t))\n",
        "average = temp / len(t)\n",
        "print(average)\n"
      ],
      "id": "834e7992"
    },
    {
      "cell_type": "markdown",
      "metadata": {
        "id": "51edab9c"
      },
      "source": [
        "**56-Write a Python program to add member(s) to a set."
      ],
      "id": "51edab9c"
    },
    {
      "cell_type": "code",
      "execution_count": null,
      "metadata": {
        "id": "2b65df79"
      },
      "outputs": [],
      "source": [
        "S = {\"apple\", \"banana\", \"cherry\"}\n",
        "S.update([\"orange\", \"pinapple\"])"
      ],
      "id": "2b65df79"
    },
    {
      "cell_type": "markdown",
      "metadata": {
        "id": "965590cc"
      },
      "source": [
        "**57-Write a Python program to remove an item from a set if it is present in the set."
      ],
      "id": "965590cc"
    },
    {
      "cell_type": "code",
      "execution_count": null,
      "metadata": {
        "id": "866bab28",
        "colab": {
          "base_uri": "https://localhost:8080/"
        },
        "outputId": "d5c32ba9-3d1c-4a13-e126-2efbc2128559"
      },
      "outputs": [
        {
          "output_type": "stream",
          "name": "stdout",
          "text": [
            "{2, 3, 8, 9}\n"
          ]
        }
      ],
      "source": [
        "s1 = {1,2,3,8,9}\n",
        "s1.discard(1)\n",
        "print(s1)\n",
        "\n"
      ],
      "id": "866bab28"
    },
    {
      "cell_type": "markdown",
      "metadata": {
        "id": "2b7cfed1"
      },
      "source": [
        "**58-Write a Python program to create an intersection,union,difference and symmetric difference of sets"
      ],
      "id": "2b7cfed1"
    },
    {
      "cell_type": "code",
      "execution_count": null,
      "metadata": {
        "id": "7f94b7fe",
        "colab": {
          "base_uri": "https://localhost:8080/"
        },
        "outputId": "2c7db247-4b45-4cd8-e4c7-3aa44f40a6c5"
      },
      "outputs": [
        {
          "output_type": "stream",
          "name": "stdout",
          "text": [
            "Union : {1, 2, 3, 4, 5, 6, 7, 8, 9, 10, 11}\n",
            "Intersection : set()\n",
            "Difference : {1, 2, 3, 4, 5, 6}\n",
            "Symmetric difference : {1, 2, 3, 4, 5, 6, 7, 8, 9, 10, 11}\n"
          ]
        }
      ],
      "source": [
        "s = {1,2,3,4,5,6}\n",
        "t = {7,8,9,10,11}\n",
        "# union\n",
        "print(\"Union :\", s | t)\n",
        "#intersection\n",
        "print(\"Intersection :\", s & t)\n",
        "# difference\n",
        "print(\"Difference :\", s - t)\n",
        "# symmetric difference\n",
        "print(\"Symmetric difference :\", s ^ t)\n"
      ],
      "id": "7f94b7fe"
    },
    {
      "cell_type": "markdown",
      "metadata": {
        "id": "b94931e2"
      },
      "source": [
        ",**59-Write a Python program to find the maximum and minimum values in a set,,"
      ],
      "id": "b94931e2"
    },
    {
      "cell_type": "code",
      "execution_count": null,
      "metadata": {
        "id": "203f9600",
        "colab": {
          "base_uri": "https://localhost:8080/"
        },
        "outputId": "69eda096-f44c-4ebf-d0f5-953d88f2e2fa"
      },
      "outputs": [
        {
          "output_type": "stream",
          "name": "stdout",
          "text": [
            "8\n"
          ]
        }
      ],
      "source": [
        "S = {5, 6, 7, 3, 8}\n",
        "print(max(S))"
      ],
      "id": "203f9600"
    },
    {
      "cell_type": "markdown",
      "metadata": {
        "id": "255fd554"
      },
      "source": [
        "**60- Write a Python program that finds all pairs of elements in a list whose sum is equal to a given value."
      ],
      "id": "255fd554"
    },
    {
      "cell_type": "code",
      "execution_count": null,
      "metadata": {
        "id": "c2d94e1f",
        "colab": {
          "base_uri": "https://localhost:8080/"
        },
        "outputId": "8178a151-f8c2-40eb-f7c5-d4008925983a"
      },
      "outputs": [
        {
          "output_type": "stream",
          "name": "stdout",
          "text": [
            "[(1, 5), (6, 0)]\n"
          ]
        }
      ],
      "source": [
        "lst = [1,5,6,0,8]\n",
        "K = 6\n",
        "from itertools import combinations\n",
        "\n",
        "def findPairs(lst, K):\n",
        "\n",
        "    return [pair for pair in combinations(lst, 2) if sum(pair) == K]\n",
        "\n",
        "print(findPairs(lst, K))"
      ],
      "id": "c2d94e1f"
    },
    {
      "cell_type": "code",
      "source": [],
      "metadata": {
        "id": "KwhDjzf-iTgZ"
      },
      "id": "KwhDjzf-iTgZ",
      "execution_count": null,
      "outputs": []
    }
  ],
  "metadata": {
    "colab": {
      "provenance": [],
      "include_colab_link": true
    },
    "kernelspec": {
      "display_name": "Python 3 (ipykernel)",
      "language": "python",
      "name": "python3"
    },
    "language_info": {
      "codemirror_mode": {
        "name": "ipython",
        "version": 3
      },
      "file_extension": ".py",
      "mimetype": "text/x-python",
      "name": "python",
      "nbconvert_exporter": "python",
      "pygments_lexer": "ipython3",
      "version": "3.9.7"
    }
  },
  "nbformat": 4,
  "nbformat_minor": 5
}